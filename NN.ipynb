{
 "cells": [
  {
   "cell_type": "code",
   "execution_count": 1,
   "metadata": {},
   "outputs": [],
   "source": [
    "import pandas as pd\n",
    "import numpy as np\n",
    "import os\n",
    "from biopandas.pdb import PandasPdb as ppdb\n",
    "from sklearn.model_selection import train_test_split"
   ]
  },
  {
   "cell_type": "code",
   "execution_count": 2,
   "metadata": {},
   "outputs": [],
   "source": [
    " refer_protein = {\n",
    "    'ALA': 0,\n",
    "    'GLY': 1,\n",
    "    'ILE': 2,\n",
    "    'LEU': 3,\n",
    "    'PRO': 4,\n",
    "    'VAL': 5,\n",
    "    'PHE': 6,\n",
    "    'TRP': 7,\n",
    "    'TYR': 8, \n",
    "    'ASP': 9,\n",
    "    'GLU': 10,\n",
    "    'ARG': 11,\n",
    "    'HIS': 12,\n",
    "    'LYS': 13,\n",
    "    'SER': 14,\n",
    "    'THR': 15,\n",
    "    'CYS': 16,\n",
    "    'MET': 17,\n",
    "    'MSE': 17,\n",
    "    'MSO': 17,\n",
    "    'ASN': 18,\n",
    "    'GLN': 19\n",
    "}"
   ]
  },
  {
   "cell_type": "code",
   "execution_count": 3,
   "metadata": {},
   "outputs": [],
   "source": [
    "def extract_single_pdb(f):\n",
    "    data = ppdb().read_pdb(f)\n",
    "     \n",
    "    # read starting helix range\n",
    "    dbref = data.df['OTHERS'][data.df['OTHERS']['record_name'] == 'DBREF']['entry']   \n",
    "    if len(dbref) == 0:\n",
    "        dbref = data.df['OTHERS'][data.df['OTHERS']['record_name'] == 'DBREF2']['entry']\n",
    "        if len(dbref) == 0:\n",
    "            return\n",
    "        start_range = dbref[dbref.first_valid_index()][39:49]\n",
    "    else:\n",
    "        start_range = dbref[dbref.first_valid_index()][49:54]\n",
    "    \n",
    "    # get the helic ranges\n",
    "    helix_ranges = []\n",
    "    for string in data.df['OTHERS'][data.df['OTHERS']['record_name'] == 'HELIX']['entry']:\n",
    "        # Only get for model A\n",
    "        if(string[13].strip() == 'A'): \n",
    "            start = int(string[16:19]) - int(start_range)\n",
    "            end = int(string[28:31]) - int(start_range)\n",
    "            helix_ranges.append((start, end))\n",
    "\n",
    "    # gets the amino acids sequences\n",
    "    final_str = []\n",
    "    for string in data.df['OTHERS'][data.df['OTHERS']['record_name'] == 'SEQRES']['entry']:\n",
    "        # Only get for model A\n",
    "        if(string[5].strip() == 'A'):\n",
    "            final_str.extend(string[13:].split(sep=' '))\n",
    "    \n",
    "    # create the labels\n",
    "    label = np.zeros(len(final_str))\n",
    "    for st, end in helix_ranges:\n",
    "        for i in range(st, end+1):\n",
    "            label[i] = 1\n",
    "\n",
    "    # create the dataframe\n",
    "    df = pd.DataFrame({'acids':final_str, 'helix':label})\n",
    "    df['acid_num'] = df['acids'].apply(lambda x: refer_protein[x])\n",
    "\n",
    "    return df\n",
    "\n",
    "def extract_data_from_pdb(sub_dir):\n",
    "    files_list =  [f for f in os.listdir('./data/'+sub_dir)]\n",
    "    df_list = [extract_single_pdb('./data/'+sub_dir+\"/\"+f) for f in files_list]\n",
    "    \n",
    "    return df_list"
   ]
  },
  {
   "cell_type": "code",
   "execution_count": 4,
   "metadata": {},
   "outputs": [],
   "source": [
    "df_list = extract_data_from_pdb('d1')"
   ]
  },
  {
   "cell_type": "code",
   "execution_count": 20,
   "metadata": {},
   "outputs": [],
   "source": [
    "df2_list = []\n",
    "for df in df_list:\n",
    "    df2 = df.drop(['acids'], axis=1)\n",
    "    hot_encode = pd.get_dummies(df['acid_num'])\n",
    "    df2 = df2.drop(['acid_num'], axis=1)\n",
    "    df2 = pd.concat([df2, hot_encode], axis=1)\n",
    "    df2_list.append(df2)"
   ]
  },
  {
   "cell_type": "code",
   "execution_count": 22,
   "metadata": {},
   "outputs": [],
   "source": [
    "# df2_list[0]"
   ]
  },
  {
   "cell_type": "code",
   "execution_count": 43,
   "metadata": {},
   "outputs": [],
   "source": [
    "from keras.layers import Dense\n",
    "from keras.models import Sequential"
   ]
  },
  {
   "cell_type": "code",
   "execution_count": 44,
   "metadata": {},
   "outputs": [],
   "source": [
    "model = Sequential()\n",
    "model.add(Dense(units=200, activation='relu', input_dim=200))\n",
    "model.add(Dense(units=20, activation='relu'))\n",
    "model.add(Dense(units=10, activation='softmax'))"
   ]
  },
  {
   "cell_type": "code",
   "execution_count": null,
   "metadata": {},
   "outputs": [],
   "source": [
    "for df in df2_list:\n",
    "    # get 10 rows at a time\n",
    "    for i in range(0, len(df)-9):\n",
    "        ip = df[i:i+10] "
   ]
  }
 ],
 "metadata": {
  "kernelspec": {
   "display_name": "Python 3",
   "language": "python",
   "name": "python3"
  },
  "language_info": {
   "codemirror_mode": {
    "name": "ipython",
    "version": 3
   },
   "file_extension": ".py",
   "mimetype": "text/x-python",
   "name": "python",
   "nbconvert_exporter": "python",
   "pygments_lexer": "ipython3",
   "version": "3.6.3"
  }
 },
 "nbformat": 4,
 "nbformat_minor": 2
}
