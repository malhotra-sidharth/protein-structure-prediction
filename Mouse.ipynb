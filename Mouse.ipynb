{
 "cells": [
  {
   "cell_type": "code",
   "execution_count": 1,
   "metadata": {},
   "outputs": [],
   "source": [
    "from FCNetwork import TrainFCNN\n",
    "from utils.helper import Extract"
   ]
  },
  {
   "cell_type": "code",
   "execution_count": 2,
   "metadata": {},
   "outputs": [],
   "source": [
    "extract = Extract()"
   ]
  },
  {
   "cell_type": "code",
   "execution_count": 3,
   "metadata": {},
   "outputs": [],
   "source": [
    "train_df_list = extract.load_all_csv('mouse/train')\n",
    "test_df_list = extract.load_all_csv('mouse/test')"
   ]
  },
  {
   "cell_type": "code",
   "execution_count": 4,
   "metadata": {},
   "outputs": [],
   "source": [
    "# do one hot encoding\n",
    "train_enc_df_list = extract.get_one_hot_encoding(train_df_list)\n",
    "test_enc_df_list = extract.get_one_hot_encoding(test_df_list)"
   ]
  },
  {
   "cell_type": "code",
   "execution_count": 5,
   "metadata": {},
   "outputs": [],
   "source": [
    "fc_model_win_10 = TrainFCNN()"
   ]
  },
  {
   "cell_type": "code",
   "execution_count": null,
   "metadata": {
    "scrolled": true
   },
   "outputs": [
    {
     "name": "stdout",
     "output_type": "stream",
     "text": [
      "Test-Train extraction started..\n",
      "0 csv files extracted.\n",
      "100 csv files extracted.\n",
      "200 csv files extracted.\n",
      "300 csv files extracted.\n",
      "400 csv files extracted.\n",
      "500 csv files extracted.\n",
      "600 csv files extracted.\n",
      "700 csv files extracted.\n",
      "800 csv files extracted.\n",
      "900 csv files extracted.\n",
      "1000 csv files extracted.\n",
      "1100 csv files extracted.\n",
      "1200 csv files extracted.\n",
      "1300 csv files extracted.\n",
      "1400 csv files extracted.\n",
      "1500 csv files extracted.\n",
      "1600 csv files extracted.\n",
      "1700 csv files extracted.\n",
      "1800 csv files extracted.\n",
      "1900 csv files extracted.\n",
      "2000 csv files extracted.\n",
      "2100 csv files extracted.\n",
      "2200 csv files extracted.\n",
      "2300 csv files extracted.\n",
      "2400 csv files extracted.\n",
      "2500 csv files extracted.\n"
     ]
    }
   ],
   "source": [
    "fc_model_win_10.trainNN(train_enc_df_list, logging=True)"
   ]
  },
  {
   "cell_type": "code",
   "execution_count": null,
   "metadata": {},
   "outputs": [],
   "source": []
  }
 ],
 "metadata": {
  "kernelspec": {
   "display_name": "Python 3",
   "language": "python",
   "name": "python3"
  }
 },
 "nbformat": 4,
 "nbformat_minor": 2
}
